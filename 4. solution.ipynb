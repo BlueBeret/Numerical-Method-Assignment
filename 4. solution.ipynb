{
 "cells": [
  {
   "cell_type": "code",
   "execution_count": 4,
   "metadata": {},
   "outputs": [
    {
     "name": "stdout",
     "output_type": "stream",
     "text": [
      "Banyak Garam saat tanki penuh adalah: \n",
      "Q:  484.01952008956636  lb\n",
      "Konsesntrasi:  0.9680390401791327  lb/gal\n"
     ]
    }
   ],
   "source": [
    "# dq/dt\n",
    "def dqdt(t,Q):\n",
    "    return 3 - 2*Q/(200+t)\n",
    "\n",
    "# soal 1: berapa banyak konsenstrasi garam saat tanki mulai penuh\n",
    "def soal1():\n",
    "    t = 0\n",
    "    Q = 100 # Q(0) = 100, diketahui di soal\n",
    "    T = 300 # T saat tanki penuh\n",
    "    h = 0.01\n",
    "\n",
    "    while t < T:\n",
    "        t = t + h\n",
    "        Q = Q + h*dqdt(t,Q)\n",
    "\n",
    "    print(\"Banyak Garam saat tanki penuh adalah: \")\n",
    "    print(\"Q: \", Q, ' lb')\n",
    "    print('Konsesntrasi: ', Q/500, ' lb/gal')\n",
    "\n",
    "soal1()\n",
    "        "
   ]
  },
  {
   "cell_type": "markdown",
   "metadata": {},
   "source": [
    "# soal 2: berapa konsentrasi garam saat tak hingga jika tangki berkapasitas tak hingga.\n",
    "Saat t mendekati tak hingga maka: \n",
    "dq/dt = 3 - 0 = 3\n",
    "sehingga setiap 1 galon larutan terdapat 1 lb garam. \n",
    "Sehingga konsentrasinya adalah 1lb/gal."
   ]
  }
 ],
 "metadata": {
  "interpreter": {
   "hash": "e7370f93d1d0cde622a1f8e1c04877d8463912d04d973331ad4851f04de6915a"
  },
  "kernelspec": {
   "display_name": "Python 3.10.4 64-bit",
   "language": "python",
   "name": "python3"
  },
  "language_info": {
   "codemirror_mode": {
    "name": "ipython",
    "version": 3
   },
   "file_extension": ".py",
   "mimetype": "text/x-python",
   "name": "python",
   "nbconvert_exporter": "python",
   "pygments_lexer": "ipython3",
   "version": "3.10.4"
  },
  "orig_nbformat": 4
 },
 "nbformat": 4,
 "nbformat_minor": 2
}
