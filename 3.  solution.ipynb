{
 "cells": [
  {
   "cell_type": "code",
   "execution_count": 2,
   "metadata": {},
   "outputs": [
    {
     "name": "stdout",
     "output_type": "stream",
     "text": [
      "Garam yang ada di tanki adalah:  0.04985520381472194  lb\n"
     ]
    }
   ],
   "source": [
    "# Solusi untuk no 3 menggunakan euler's method\n",
    "\n",
    "# dq/dt untuk 10 menit pertama\n",
    "def dqdt(t,Q):\n",
    "    return 0.5 - Q/50\n",
    "\n",
    "# dq/dt untuk 10 menit selanjutnya\n",
    "def dqdt2(t,Q):\n",
    "    return -Q/50\n",
    "\n",
    "def main():\n",
    "    t = 0\n",
    "    h = 0.01\n",
    "    Q = 0\n",
    "\n",
    "    # Q untuk 10 menit pertama\n",
    "    for i in range(10):\n",
    "        t = t + h\n",
    "        Q = Q + h*dqdt(t,Q)\n",
    "\n",
    "    # Q untuk sepuluh menit selanjutnya\n",
    "    for _ in range(10):\n",
    "        t = t + h\n",
    "        Q = Q + h*dqdt2(t,Q)\n",
    "\n",
    "    print('Garam yang ada di tanki adalah: ',Q, ' lb')\n",
    "\n",
    "main()"
   ]
  }
 ],
 "metadata": {
  "interpreter": {
   "hash": "e7370f93d1d0cde622a1f8e1c04877d8463912d04d973331ad4851f04de6915a"
  },
  "kernelspec": {
   "display_name": "Python 3.10.4 64-bit",
   "language": "python",
   "name": "python3"
  },
  "language_info": {
   "codemirror_mode": {
    "name": "ipython",
    "version": 3
   },
   "file_extension": ".py",
   "mimetype": "text/x-python",
   "name": "python",
   "nbconvert_exporter": "python",
   "pygments_lexer": "ipython3",
   "version": "3.10.4"
  },
  "orig_nbformat": 4
 },
 "nbformat": 4,
 "nbformat_minor": 2
}
